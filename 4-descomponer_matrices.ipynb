{
 "metadata": {
  "language_info": {
   "codemirror_mode": {
    "name": "ipython",
    "version": 3
   },
   "file_extension": ".py",
   "mimetype": "text/x-python",
   "name": "python",
   "nbconvert_exporter": "python",
   "pygments_lexer": "ipython3",
   "version": 3
  },
  "orig_nbformat": 2,
  "kernelspec": {
   "name": "python_defaultSpec_1595639839892",
   "display_name": "Python 3.7.4 64-bit ('base': conda)"
  }
 },
 "nbformat": 4,
 "nbformat_minor": 2,
 "cells": [
  {
   "cell_type": "code",
   "execution_count": 31,
   "metadata": {},
   "outputs": [],
   "source": [
    "\n",
    "import numpy as np \n"
   ]
  },
  {
   "cell_type": "code",
   "execution_count": 32,
   "metadata": {
    "tags": []
   },
   "outputs": [
    {
     "output_type": "stream",
     "name": "stdout",
     "text": "[[3 2]\n [4 2]]\n"
    }
   ],
   "source": [
    "a = np.array([[3,2],[4,2]])\n",
    "print(a)"
   ]
  },
  {
   "cell_type": "code",
   "execution_count": 33,
   "metadata": {},
   "outputs": [],
   "source": [
    "autovalores , autovectores = np.linalg.eig(a)\n"
   ]
  },
  {
   "cell_type": "code",
   "execution_count": 34,
   "metadata": {
    "tags": []
   },
   "outputs": [
    {
     "output_type": "stream",
     "name": "stdout",
     "text": "[ 5.37228132 -0.37228132]\n[[ 0.64456735 -0.51010647]\n [ 0.76454754  0.86011126]]\n"
    }
   ],
   "source": [
    "print(autovalores)\n",
    "print(autovectores)"
   ]
  },
  {
   "cell_type": "code",
   "execution_count": 35,
   "metadata": {},
   "outputs": [
    {
     "output_type": "execute_result",
     "data": {
      "text/plain": "(array([ 5.37228132, -0.37228132]), array([[ 0.64456735, -0.51010647],\n        [ 0.76454754,  0.86011126]]))"
     },
     "metadata": {},
     "execution_count": 35
    }
   ],
   "source": [
    "np.linalg.eig(a)"
   ]
  },
  {
   "cell_type": "code",
   "execution_count": 36,
   "metadata": {},
   "outputs": [
    {
     "output_type": "execute_result",
     "data": {
      "text/plain": "array([[3., 2.],\n       [4., 2.]])"
     },
     "metadata": {},
     "execution_count": 36
    }
   ],
   "source": [
    "#expresamos la matriz a, de otra manera\n",
    "a_calculada = autovectores.dot(np.diag(autovalores)).dot(np.linalg.inv(autovectores))\n",
    "a_calculada"
   ]
  },
  {
   "cell_type": "code",
   "execution_count": 37,
   "metadata": {},
   "outputs": [
    {
     "output_type": "execute_result",
     "data": {
      "text/plain": "array([[3, 2],\n       [2, 3]])"
     },
     "metadata": {},
     "execution_count": 37
    }
   ],
   "source": [
    "a = np.array([[3,2],[2,3]])\n",
    "a"
   ]
  },
  {
   "cell_type": "code",
   "execution_count": 38,
   "metadata": {
    "tags": []
   },
   "outputs": [
    {
     "output_type": "stream",
     "name": "stdout",
     "text": "[[ True  True]\n [ True  True]]\n"
    }
   ],
   "source": [
    "#comprobando que A es igual a a.T (a traspuesta), es decir, es simetrica\n",
    "print(a == a.T)"
   ]
  },
  {
   "cell_type": "code",
   "execution_count": 39,
   "metadata": {},
   "outputs": [],
   "source": [
    "#Calcular autovalores y autovectores \n",
    "autovalores , autovectores = np.linalg.eig(a)"
   ]
  },
  {
   "cell_type": "code",
   "execution_count": 40,
   "metadata": {
    "tags": []
   },
   "outputs": [
    {
     "output_type": "stream",
     "name": "stdout",
     "text": "[5. 1.]\n[[ 0.70710678 -0.70710678]\n [ 0.70710678  0.70710678]]\n"
    }
   ],
   "source": [
    "print(autovalores)\n",
    "print(autovectores)"
   ]
  },
  {
   "cell_type": "code",
   "execution_count": 41,
   "metadata": {},
   "outputs": [
    {
     "output_type": "execute_result",
     "data": {
      "text/plain": "array([[3., 2.],\n       [2., 3.]])"
     },
     "metadata": {},
     "execution_count": 41
    }
   ],
   "source": [
    "a_calculada = autovectores.dot(np.diag(autovalores)).dot(autovectores.T)\n",
    "a_calculada"
   ]
  },
  {
   "cell_type": "code",
   "execution_count": null,
   "metadata": {},
   "outputs": [],
   "source": []
  }
 ]
}