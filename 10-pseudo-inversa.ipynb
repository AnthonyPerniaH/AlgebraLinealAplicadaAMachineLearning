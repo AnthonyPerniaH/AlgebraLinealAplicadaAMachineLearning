{
 "metadata": {
  "language_info": {
   "codemirror_mode": {
    "name": "ipython",
    "version": 3
   },
   "file_extension": ".py",
   "mimetype": "text/x-python",
   "name": "python",
   "nbconvert_exporter": "python",
   "pygments_lexer": "ipython3",
   "version": 3
  },
  "orig_nbformat": 2,
  "kernelspec": {
   "name": "python_defaultSpec_1595725084312",
   "display_name": "Python 3.7.4 64-bit ('Continuum': virtualenv)"
  }
 },
 "nbformat": 4,
 "nbformat_minor": 2,
 "cells": [
  {
   "cell_type": "code",
   "execution_count": 23,
   "metadata": {},
   "outputs": [],
   "source": [
    "%matplotlib inline \n",
    "import matplotlib.pyplot as plt \n",
    "import numpy as np \n",
    "\n"
   ]
  },
  {
   "cell_type": "code",
   "execution_count": 2,
   "metadata": {},
   "outputs": [],
   "source": [
    "np.set_printoptions(suppress=True)"
   ]
  },
  {
   "cell_type": "code",
   "execution_count": 3,
   "metadata": {},
   "outputs": [
    {
     "output_type": "execute_result",
     "data": {
      "text/plain": "array([[ 2,  3],\n       [ 5,  7],\n       [11, 13]])"
     },
     "metadata": {},
     "execution_count": 3
    }
   ],
   "source": [
    "a = np.array([[2,3],[5,7],[11,13]])\n",
    "a"
   ]
  },
  {
   "cell_type": "code",
   "execution_count": 4,
   "metadata": {},
   "outputs": [],
   "source": [
    "u, d , v = np.linalg.svd(a)"
   ]
  },
  {
   "cell_type": "code",
   "execution_count": 5,
   "metadata": {
    "tags": []
   },
   "outputs": [
    {
     "output_type": "stream",
     "name": "stdout",
     "text": "u:\n[[-0.18499741 -0.47276624 -0.86154979]\n [-0.44249308 -0.74271297  0.50257071]\n [-0.87748267  0.4742041  -0.07179582]]\nd:\n[19.40321383  0.71783924]\nv:\n[[-0.63055377 -0.77614557]\n [ 0.77614557 -0.63055377]]\n"
    }
   ],
   "source": [
    "print('u:')\n",
    "print(u)\n",
    "print('d:')\n",
    "print(d)\n",
    "print('v:')\n",
    "print(v)"
   ]
  },
  {
   "cell_type": "code",
   "execution_count": 7,
   "metadata": {},
   "outputs": [
    {
     "output_type": "execute_result",
     "data": {
      "text/plain": "array([[0., 0., 0.],\n       [0., 0., 0.]])"
     },
     "metadata": {},
     "execution_count": 7
    }
   ],
   "source": [
    "d_pse = np.zeros((a.shape[0], a.shape[1])).T\n",
    "d_pse"
   ]
  },
  {
   "cell_type": "code",
   "execution_count": 8,
   "metadata": {
    "tags": []
   },
   "outputs": [
    {
     "output_type": "stream",
     "name": "stdout",
     "text": "valores a reemplzar en D_pse\n[[0. 0.]\n [0. 0.]]\n"
    }
   ],
   "source": [
    "print('valores a reemplzar en D_pse')\n",
    "print(d_pse[:d.shape[0], :d.shape[0]])"
   ]
  },
  {
   "cell_type": "code",
   "execution_count": 9,
   "metadata": {
    "tags": []
   },
   "outputs": [
    {
     "output_type": "stream",
     "name": "stdout",
     "text": "valores que usaremos en D_pse\n[[0.05153785 0.        ]\n [0.         1.39306957]]\n"
    }
   ],
   "source": [
    "print('valores que usaremos en D_pse')\n",
    "print(np.linalg.inv(np.diag(d)))"
   ]
  },
  {
   "cell_type": "code",
   "execution_count": 10,
   "metadata": {
    "tags": []
   },
   "outputs": [
    {
     "output_type": "stream",
     "name": "stdout",
     "text": "D_pse\n[[0.05153785 0.         0.        ]\n [0.         1.39306957 0.        ]]\n"
    }
   ],
   "source": [
    "print('D_pse')\n",
    "d_pse[:d.shape[0], :d.shape[0]]= np.linalg.inv(np.diag(d))\n",
    "print(d_pse)"
   ]
  },
  {
   "cell_type": "code",
   "execution_count": 11,
   "metadata": {},
   "outputs": [
    {
     "output_type": "execute_result",
     "data": {
      "text/plain": "array([[-0.50515464, -0.78865979,  0.54123711],\n       [ 0.42268041,  0.67010309, -0.3814433 ]])"
     },
     "metadata": {},
     "execution_count": 11
    }
   ],
   "source": [
    "#la que calculamos nosotros\n",
    "a_pse = v.T.dot(d_pse).dot(u.T)\n",
    "a_pse"
   ]
  },
  {
   "cell_type": "code",
   "execution_count": 12,
   "metadata": {},
   "outputs": [
    {
     "output_type": "execute_result",
     "data": {
      "text/plain": "array([[-0.50515464, -0.78865979,  0.54123711],\n       [ 0.42268041,  0.67010309, -0.3814433 ]])"
     },
     "metadata": {},
     "execution_count": 12
    }
   ],
   "source": [
    "#ahora calculandola con nunpy\n",
    "a_pse_calc = np.linalg.pinv(a)\n",
    "a_pse_calc"
   ]
  },
  {
   "cell_type": "code",
   "execution_count": 14,
   "metadata": {
    "tags": []
   },
   "outputs": [
    {
     "output_type": "stream",
     "name": "stdout",
     "text": "[[ 1. -0.]\n [ 0.  1.]]\n"
    }
   ],
   "source": [
    "print(a_pse.dot(a))"
   ]
  },
  {
   "cell_type": "code",
   "execution_count": 17,
   "metadata": {},
   "outputs": [],
   "source": [
    "np.set_printoptions(suppress=False)\n",
    "\n",
    "#nos daba casi la identidad porque suprimiamos los valores cercanos a 0 "
   ]
  },
  {
   "cell_type": "code",
   "execution_count": 18,
   "metadata": {
    "tags": []
   },
   "outputs": [
    {
     "output_type": "stream",
     "name": "stdout",
     "text": "[[ 1.00000000e+00 -8.88178420e-16]\n [ 2.66453526e-15  1.00000000e+00]]\n"
    }
   ],
   "source": [
    "print(a_pse.dot(a))"
   ]
  },
  {
   "cell_type": "code",
   "execution_count": 19,
   "metadata": {
    "tags": []
   },
   "outputs": [
    {
     "output_type": "stream",
     "name": "stdout",
     "text": "[[ 0.25773196  0.43298969 -0.06185567]\n [ 0.43298969  0.74742268  0.03608247]\n [-0.06185567  0.03608247  0.99484536]]\n"
    }
   ],
   "source": [
    "#no tiene la caracteristica de la inversa comun\n",
    "print(a.dot(a_pse))"
   ]
  },
  {
   "cell_type": "code",
   "execution_count": 20,
   "metadata": {},
   "outputs": [
    {
     "output_type": "execute_result",
     "data": {
      "text/plain": "array([[-0.50515464, -0.78865979,  0.54123711],\n       [ 0.42268041,  0.67010309, -0.3814433 ]])"
     },
     "metadata": {},
     "execution_count": 20
    }
   ],
   "source": [
    "a_pse_2 = np.linalg.inv(a.T.dot(a)).dot(a.T)\n",
    "a_pse_2"
   ]
  },
  {
   "cell_type": "code",
   "execution_count": 21,
   "metadata": {},
   "outputs": [
    {
     "output_type": "execute_result",
     "data": {
      "text/plain": "array([[-0.50515464, -0.78865979,  0.54123711],\n       [ 0.42268041,  0.67010309, -0.3814433 ]])"
     },
     "metadata": {},
     "execution_count": 21
    }
   ],
   "source": [
    "a_pse"
   ]
  },
  {
   "cell_type": "code",
   "execution_count": null,
   "metadata": {},
   "outputs": [],
   "source": []
  }
 ]
}